{
 "cells": [
  {
   "cell_type": "markdown",
   "metadata": {},
   "source": [
    "## Data Masking "
   ]
  },
  {
   "cell_type": "code",
   "execution_count": null,
   "metadata": {},
   "outputs": [],
   "source": [
    "data_str=\"파이썬은 클래스를 이용해 객체를 생성하는 객체지향 프로그래밍 언어입니다.\"\n",
    "print(\"'{0}'\".format(data_str))\n",
    "\n",
    "mask_str=input(\"마스킹할 문자열을 입력하세요: \")\n",
    "find_str=input(\"찾을 문자열을 입력하세요: \")\n",
    "\n",
    "idx = -1\n",
    "count = 1\n",
    "\n",
    "while True:   \n",
    "    idx=data_str.find(find_str, idx+1)\n",
    "    if idx != -1:\n",
    "        print(\"[{0}]~[{1}]\".format(idx, idx+len(find_str)-1))\n",
    "        new_str=data_str.replace(find_str, mask_str, count)\n",
    "        print(new_str)\n",
    "        count += 1\n",
    "    else:\n",
    "        break"
   ]
  }
 ],
 "metadata": {
  "kernelspec": {
   "display_name": "Python 3",
   "language": "python",
   "name": "python3"
  },
  "language_info": {
   "codemirror_mode": {
    "name": "ipython",
    "version": 3
   },
   "file_extension": ".py",
   "mimetype": "text/x-python",
   "name": "python",
   "nbconvert_exporter": "python",
   "pygments_lexer": "ipython3",
   "version": "3.8.3"
  }
 },
 "nbformat": 4,
 "nbformat_minor": 4
}
