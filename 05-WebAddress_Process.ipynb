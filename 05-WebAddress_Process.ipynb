{
 "cells": [
  {
   "cell_type": "markdown",
   "metadata": {},
   "source": [
    "## 웹 주소 처리"
   ]
  },
  {
   "cell_type": "markdown",
   "metadata": {},
   "source": [
    "### 크롤링하거나 웹 제작시에 사이트 주소를 가공해야 될 떄 편리합니다"
   ]
  },
  {
   "cell_type": "code",
   "execution_count": 2,
   "metadata": {},
   "outputs": [
    {
     "name": "stdout",
     "output_type": "stream",
     "text": [
      "https://gobooki.net/%EA%B5%AC%EA%B8%80-%EC%A7%81%EC%9B%90%EC%9D%B4-%EC%95%8C%EB%A0%A4%EC%A3%BC%EB%8A%94-%EC%9C%A0%ED%8A%9C%EB%B8%8C-%EC%95%8C%EA%B3%A0%EB%A6%AC%EC%A6%98-%EC%9E%91%EB%8F%99-%EC%9B%90%EB%A6%AC/\n",
      "protocol: https\n",
      "host: gobooki.net\n",
      "others: %EA%B5%AC%EA%B8%80-%EC%A7%81%EC%9B%90%EC%9D%B4-%EC%95%8C%EB%A0%A4%EC%A3%BC%EB%8A%94-%EC%9C%A0%ED%8A%9C%EB%B8%8C-%EC%95%8C%EA%B3%A0%EB%A6%AC%EC%A6%98-%EC%9E%91%EB%8F%99-%EC%9B%90%EB%A6%AC/\n"
     ]
    }
   ],
   "source": [
    "t_str = input()\n",
    "protocol_index = 0\n",
    "host_endindex = 0\n",
    " \n",
    "protocol_index=t_str.find(\"://\")\n",
    "if protocol_index != -1:\n",
    "    print(\"protocol: {0}\".format(t_str[0:protocol_index]))\n",
    "    t_str = t_str[protocol_index+3:]\n",
    "else:\n",
    "    print(\"protocol: {0}\".format(\"없음\"))\n",
    "    \n",
    "host_endindex = t_str.find(\"/\")\n",
    "if host_endindex != -1:\n",
    "    print(\"host: {0}\".format(t_str[0:host_endindex]))\n",
    "    t_str = t_str[host_endindex:]\n",
    "else :\n",
    "    print(\"host: {0}\".format(t_str))\n",
    "    t_str = \"\"\n",
    "    \n",
    "if len(t_str) > 1:\n",
    "   print(\"others: {0}\".format(t_str[1:]))"
   ]
  },
  {
   "cell_type": "code",
   "execution_count": null,
   "metadata": {},
   "outputs": [],
   "source": []
  }
 ],
 "metadata": {
  "kernelspec": {
   "display_name": "Python 3",
   "language": "python",
   "name": "python3"
  },
  "language_info": {
   "codemirror_mode": {
    "name": "ipython",
    "version": 3
   },
   "file_extension": ".py",
   "mimetype": "text/x-python",
   "name": "python",
   "nbconvert_exporter": "python",
   "pygments_lexer": "ipython3",
   "version": "3.8.3"
  }
 },
 "nbformat": 4,
 "nbformat_minor": 4
}
